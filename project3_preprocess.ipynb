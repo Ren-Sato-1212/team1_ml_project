{
 "cells": [
  {
   "cell_type": "code",
   "execution_count": 36,
   "metadata": {},
   "outputs": [
    {
     "name": "stdout",
     "output_type": "stream",
     "text": [
      "       pH  Temprature  Taste  Odor  Fat   Turbidity  Colour   Grade\n",
      "0     6.6          35      1     0     1          0     254    high\n",
      "1     6.6          36      0     1     0          1     253    high\n",
      "2     8.5          70      1     1     1          1     246     low\n",
      "3     9.5          34      1     1     0          1     255     low\n",
      "4     6.6          37      0     0     0          0     255  medium\n",
      "...   ...         ...    ...   ...   ...        ...     ...     ...\n",
      "1054  6.7          45      1     1     0          0     247  medium\n",
      "1055  6.7          38      1     0     1          0     255    high\n",
      "1056  3.0          40      1     1     1          1     255     low\n",
      "1057  6.8          43      1     0     1          0     250    high\n",
      "1058  8.6          55      0     1     1          1     255     low\n",
      "\n",
      "[1059 rows x 8 columns]\n"
     ]
    }
   ],
   "source": [
    "# data load\n",
    "import pandas as pd\n",
    "\n",
    "data_raw = pd.read_csv(\"data/milknew.csv\", encoding=\"utf-8\")\n",
    "\n",
    "# data 확인\n",
    "print(data_raw)"
   ]
  },
  {
   "cell_type": "code",
   "execution_count": 37,
   "metadata": {},
   "outputs": [
    {
     "name": "stdout",
     "output_type": "stream",
     "text": [
      "Index(['pH', 'Temprature', 'Taste', 'Odor', 'Fat ', 'Turbidity', 'Colour',\n",
      "       'Grade'],\n",
      "      dtype='object')\n"
     ]
    }
   ],
   "source": [
    "# data column 확인\n",
    "print(data_raw.columns)"
   ]
  },
  {
   "cell_type": "code",
   "execution_count": 38,
   "metadata": {},
   "outputs": [
    {
     "name": "stdout",
     "output_type": "stream",
     "text": [
      "Index(['PH', 'Temprature', 'Taste', 'Odor', 'Fat', 'Turbidity', 'Colour',\n",
      "       'Grade'],\n",
      "      dtype='object')\n"
     ]
    }
   ],
   "source": [
    "# data column 수정\n",
    "data = pd.DataFrame(data_raw.values, columns=data_raw.columns.str.strip().str.replace(\"pH\", \"PH\"))\n",
    "\n",
    "# 수정 확인\n",
    "print(data.columns)"
   ]
  },
  {
   "cell_type": "code",
   "execution_count": 39,
   "metadata": {},
   "outputs": [
    {
     "name": "stdout",
     "output_type": "stream",
     "text": [
      "       PH Temprature Taste Odor Fat Turbidity Colour   Grade\n",
      "0     6.6         35     1    0   1         0    254    high\n",
      "1     6.6         36     0    1   0         1    253    high\n",
      "2     8.5         70     1    1   1         1    246     low\n",
      "3     9.5         34     1    1   0         1    255     low\n",
      "4     6.6         37     0    0   0         0    255  medium\n",
      "...   ...        ...   ...  ...  ..       ...    ...     ...\n",
      "1054  6.7         45     1    1   0         0    247  medium\n",
      "1055  6.7         38     1    0   1         0    255    high\n",
      "1056  3.0         40     1    1   1         1    255     low\n",
      "1057  6.8         43     1    0   1         0    250    high\n",
      "1058  8.6         55     0    1   1         1    255     low\n",
      "\n",
      "[1059 rows x 8 columns]\n"
     ]
    }
   ],
   "source": [
    "print(data)"
   ]
  },
  {
   "cell_type": "code",
   "execution_count": 40,
   "metadata": {},
   "outputs": [
    {
     "name": "stdout",
     "output_type": "stream",
     "text": [
      "PH            0\n",
      "Temprature    0\n",
      "Taste         0\n",
      "Odor          0\n",
      "Fat           0\n",
      "Turbidity     0\n",
      "Colour        0\n",
      "Grade         0\n",
      "dtype: int64\n"
     ]
    }
   ],
   "source": [
    "# 결측치 확인\n",
    "print(data.isna().sum())"
   ]
  },
  {
   "cell_type": "code",
   "execution_count": 41,
   "metadata": {},
   "outputs": [
    {
     "name": "stdout",
     "output_type": "stream",
     "text": [
      "  Taste Odor Fat Turbidity\n",
      "0     1    0   1         0\n",
      "1     0    1   0         1\n"
     ]
    }
   ],
   "source": [
    "print(data.loc[:, \"Taste\":\"Turbidity\"].apply(lambda x: x.unique()))"
   ]
  },
  {
   "cell_type": "code",
   "execution_count": 42,
   "metadata": {},
   "outputs": [
    {
     "name": "stdout",
     "output_type": "stream",
     "text": [
      "['high' 'low' 'medium']\n"
     ]
    }
   ],
   "source": [
    "print(data[\"Grade\"].unique())"
   ]
  },
  {
   "cell_type": "code",
   "execution_count": 43,
   "metadata": {},
   "outputs": [
    {
     "name": "stdout",
     "output_type": "stream",
     "text": [
      "       PH Temprature Taste Odor Fat Turbidity Colour  Grade\n",
      "0     6.6         35     1    0   1         0    254      2\n",
      "1     6.6         36     0    1   0         1    253      2\n",
      "2     8.5         70     1    1   1         1    246      0\n",
      "3     9.5         34     1    1   0         1    255      0\n",
      "4     6.6         37     0    0   0         0    255      1\n",
      "...   ...        ...   ...  ...  ..       ...    ...    ...\n",
      "1054  6.7         45     1    1   0         0    247      1\n",
      "1055  6.7         38     1    0   1         0    255      2\n",
      "1056  3.0         40     1    1   1         1    255      0\n",
      "1057  6.8         43     1    0   1         0    250      2\n",
      "1058  8.6         55     0    1   1         1    255      0\n",
      "\n",
      "[1059 rows x 8 columns]\n"
     ]
    }
   ],
   "source": [
    "# data의 'Grade' 값 code화\n",
    "data[\"Grade\"] = data[\"Grade\"].map(lambda x: 0 if x == \"low\" else 1 if x == \"medium\" else 2)\n",
    "\n",
    "# 수정 확인\n",
    "print(data)"
   ]
  },
  {
   "cell_type": "code",
   "execution_count": 44,
   "metadata": {},
   "outputs": [
    {
     "name": "stdout",
     "output_type": "stream",
     "text": [
      "[2 0 1]\n"
     ]
    }
   ],
   "source": [
    "print(data[\"Grade\"].unique())"
   ]
  },
  {
   "cell_type": "code",
   "execution_count": 45,
   "metadata": {},
   "outputs": [
    {
     "name": "stdout",
     "output_type": "stream",
     "text": [
      "PH            object\n",
      "Temprature    object\n",
      "Taste         object\n",
      "Odor          object\n",
      "Fat           object\n",
      "Turbidity     object\n",
      "Colour        object\n",
      "Grade          int64\n",
      "dtype: object\n"
     ]
    }
   ],
   "source": [
    "# data의 data type 확인\n",
    "print(data.dtypes)"
   ]
  },
  {
   "cell_type": "code",
   "execution_count": 46,
   "metadata": {},
   "outputs": [
    {
     "name": "stdout",
     "output_type": "stream",
     "text": [
      "pH            float64\n",
      "Temprature      int64\n",
      "Taste           int64\n",
      "Odor            int64\n",
      "Fat             int64\n",
      "Turbidity       int64\n",
      "Colour          int64\n",
      "Grade          object\n",
      "dtype: object\n"
     ]
    }
   ],
   "source": [
    "print(data_raw.dtypes)"
   ]
  },
  {
   "cell_type": "code",
   "execution_count": 47,
   "metadata": {},
   "outputs": [],
   "source": [
    "# data의 data type 수정\n",
    "data[\"PH\"] = data[\"PH\"].astype(float)"
   ]
  },
  {
   "cell_type": "code",
   "execution_count": 48,
   "metadata": {},
   "outputs": [],
   "source": [
    "def int_change(x):\n",
    "    x = x.astype(\"int64\")\n",
    "\n",
    "    return x"
   ]
  },
  {
   "cell_type": "code",
   "execution_count": 49,
   "metadata": {},
   "outputs": [
    {
     "name": "stdout",
     "output_type": "stream",
     "text": [
      "PH            float64\n",
      "Temprature      int64\n",
      "Taste           int64\n",
      "Odor            int64\n",
      "Fat             int64\n",
      "Turbidity       int64\n",
      "Colour          int64\n",
      "Grade           int64\n",
      "dtype: object\n"
     ]
    }
   ],
   "source": [
    "data = pd.concat([data.drop(data.columns[1:], axis=1), data.loc[:, \"Temprature\":\"Colour\"].apply(int_change), data.drop(data.columns[:7], axis=1)], axis=1)\n",
    "\n",
    "# 수정 확인\n",
    "print(data.dtypes)"
   ]
  },
  {
   "cell_type": "code",
   "execution_count": 50,
   "metadata": {},
   "outputs": [
    {
     "name": "stdout",
     "output_type": "stream",
     "text": [
      "       PH  Temprature  Taste  Odor  Fat  Turbidity  Colour  Grade\n",
      "0     6.6          35      1     0    1          0     254      2\n",
      "1     6.6          36      0     1    0          1     253      2\n",
      "2     8.5          70      1     1    1          1     246      0\n",
      "3     9.5          34      1     1    0          1     255      0\n",
      "4     6.6          37      0     0    0          0     255      1\n",
      "...   ...         ...    ...   ...  ...        ...     ...    ...\n",
      "1054  6.7          45      1     1    0          0     247      1\n",
      "1055  6.7          38      1     0    1          0     255      2\n",
      "1056  3.0          40      1     1    1          1     255      0\n",
      "1057  6.8          43      1     0    1          0     250      2\n",
      "1058  8.6          55      0     1    1          1     255      0\n",
      "\n",
      "[1059 rows x 8 columns]\n"
     ]
    }
   ],
   "source": [
    "print(data)"
   ]
  },
  {
   "cell_type": "code",
   "execution_count": 51,
   "metadata": {},
   "outputs": [],
   "source": [
    "data.to_csv(\"data/original_data.csv\", encoding=\"utf-8\", index=False)"
   ]
  },
  {
   "cell_type": "code",
   "execution_count": 52,
   "metadata": {},
   "outputs": [],
   "source": [
    "# data \"Grade\"별 분리\n",
    "def data_classfy(data):\n",
    "    data_classification_list = []\n",
    "\n",
    "    for c in sorted(data[\"Grade\"].unique(), reverse=True):\n",
    "        data_classification_list.append(data[data[\"Grade\"] == c])\n",
    "\n",
    "    return data_classification_list"
   ]
  },
  {
   "cell_type": "code",
   "execution_count": 53,
   "metadata": {},
   "outputs": [
    {
     "name": "stdout",
     "output_type": "stream",
     "text": [
      "     PH  Temprature  Taste  Odor  Fat  Turbidity  Colour  Grade\n",
      "0   6.6          35      1     0    1          0     254      2\n",
      "1   6.6          36      0     1    0          1     253      2\n",
      "5   6.6          37      1     1    1          1     255      2\n",
      "14  6.8          45      0     1    1          1     255      2\n",
      "20  6.6          45      0     1    1          1     250      2\n",
      "size: (256, 8)\n",
      "\n",
      "     PH  Temprature  Taste  Odor  Fat  Turbidity  Colour  Grade\n",
      "4   6.6          37      0     0    0          0     255      1\n",
      "9   6.7          45      1     1    0          0     247      1\n",
      "10  6.7          45      1     1    1          0     245      1\n",
      "15  6.5          38      1     0    0          0     255      1\n",
      "19  6.8          40      1     0    1          0     245      1\n",
      "size: (374, 8)\n",
      "\n",
      "    PH  Temprature  Taste  Odor  Fat  Turbidity  Colour  Grade\n",
      "2  8.5          70      1     1    1          1     246      0\n",
      "3  9.5          34      1     1    0          1     255      0\n",
      "6  5.5          45      1     0    1          1     250      0\n",
      "7  4.5          60      0     1    1          1     250      0\n",
      "8  8.1          66      1     0    1          1     255      0\n",
      "size: (429, 8)\n",
      "\n"
     ]
    }
   ],
   "source": [
    "data_classification_list = data_classfy(data)\n",
    "\n",
    "for data_part in data_classification_list:\n",
    "    print(data_part.head())\n",
    "    print(f'size: {data_part.shape}')\n",
    "    print()"
   ]
  },
  {
   "cell_type": "code",
   "execution_count": 54,
   "metadata": {},
   "outputs": [],
   "source": [
    "# data \"Grade\"별 이상치 확인\n",
    "def part_outlier_search(x):\n",
    "    iqr = x.quantile(0.75) - x.quantile(0.25)\n",
    "\n",
    "    return x[(x < x.quantile(0.25) - 1.5 * iqr) | (x > x.quantile(0.75) + 1.5 * iqr)].index"
   ]
  },
  {
   "cell_type": "code",
   "execution_count": 55,
   "metadata": {},
   "outputs": [],
   "source": [
    "def outlier_search(data):\n",
    "    return data.drop(data.columns[2:6], axis=1).drop(data.columns[7], axis=1).apply(part_outlier_search)"
   ]
  },
  {
   "cell_type": "code",
   "execution_count": 56,
   "metadata": {},
   "outputs": [],
   "source": [
    "part_data_outlier_list = []\n",
    "\n",
    "for part_data in data_classification_list:\n",
    "    part_data_outlier_list.append((part_data[\"Grade\"].unique(), outlier_search(part_data)))"
   ]
  },
  {
   "cell_type": "code",
   "execution_count": 57,
   "metadata": {},
   "outputs": [
    {
     "name": "stdout",
     "output_type": "stream",
     "text": [
      "<Grade: 2>\n",
      "Empty DataFrame\n",
      "Columns: [PH, Temprature, Colour]\n",
      "Index: []\n",
      "\n",
      "<Grade: 1>\n",
      "Empty DataFrame\n",
      "Columns: [PH, Temprature, Colour]\n",
      "Index: []\n",
      "\n",
      "<Grade: 0>\n",
      "PH                                     Index([], dtype='int64')\n",
      "Temprature    Index([ 13,  58, 106, 162, 190, 213, 290, 318,...\n",
      "Colour                                 Index([], dtype='int64')\n",
      "dtype: object\n",
      "\n"
     ]
    }
   ],
   "source": [
    "for pdo in part_data_outlier_list:\n",
    "    print(f\"<Grade: {pdo[0][0]}>\")\n",
    "    print(pdo[1])\n",
    "    print()"
   ]
  },
  {
   "cell_type": "code",
   "execution_count": 58,
   "metadata": {},
   "outputs": [
    {
     "name": "stdout",
     "output_type": "stream",
     "text": [
      "False\n"
     ]
    }
   ],
   "source": [
    "# 시간 부족으로 여기서부터는 함수로 처리하지 않음; data로 직접 접근해서 처리\n",
    "print(part_data_outlier_list[2][1].empty)"
   ]
  },
  {
   "cell_type": "code",
   "execution_count": 59,
   "metadata": {},
   "outputs": [
    {
     "name": "stdout",
     "output_type": "stream",
     "text": [
      "       PH  Temprature  Colour  Taste_0  Taste_1  Odor_0  Odor_1  Fat_0  Fat_1   \n",
      "2     8.5          70     246        0        1       0       1      0      1  \\\n",
      "3     9.5          34     255        0        1       0       1      1      0   \n",
      "6     5.5          45     250        0        1       1       0      0      1   \n",
      "7     4.5          60     250        1        0       0       1      0      1   \n",
      "8     8.1          66     255        0        1       1       0      0      1   \n",
      "...   ...         ...     ...      ...      ...     ...     ...    ...    ...   \n",
      "1048  9.5          34     255        0        1       0       1      1      0   \n",
      "1051  5.5          45     250        0        1       1       0      0      1   \n",
      "1053  8.1          66     255        0        1       1       0      0      1   \n",
      "1056  3.0          40     255        0        1       0       1      0      1   \n",
      "1058  8.6          55     255        1        0       0       1      0      1   \n",
      "\n",
      "      Turbidity_0  Turbidity_1  \n",
      "2               0            1  \n",
      "3               0            1  \n",
      "6               0            1  \n",
      "7               0            1  \n",
      "8               0            1  \n",
      "...           ...          ...  \n",
      "1048            0            1  \n",
      "1051            0            1  \n",
      "1053            0            1  \n",
      "1056            0            1  \n",
      "1058            0            1  \n",
      "\n",
      "[429 rows x 11 columns]\n"
     ]
    }
   ],
   "source": [
    "# 범주형 data one-hot encoding\n",
    "data1 = pd.get_dummies(data_classification_list[2].loc[:, data_classification_list[2].columns[:7]], columns=data_classification_list[2].columns[2:6], dtype=\"int64\")\n",
    "\n",
    "print(data1)"
   ]
  },
  {
   "cell_type": "code",
   "execution_count": 60,
   "metadata": {},
   "outputs": [
    {
     "name": "stdout",
     "output_type": "stream",
     "text": [
      "            PH  Temprature  Colour  Taste_0  Taste_1  Odor_0  Odor_1  Fat_0   \n",
      "2     0.846154    0.642857     0.1      0.0      1.0     0.0     1.0    0.0  \\\n",
      "3     1.000000    0.000000     1.0      0.0      1.0     0.0     1.0    1.0   \n",
      "6     0.384615    0.196429     0.5      0.0      1.0     1.0     0.0    0.0   \n",
      "7     0.230769    0.464286     0.5      1.0      0.0     0.0     1.0    0.0   \n",
      "8     0.784615    0.571429     1.0      0.0      1.0     1.0     0.0    0.0   \n",
      "...        ...         ...     ...      ...      ...     ...     ...    ...   \n",
      "1048  1.000000    0.000000     1.0      0.0      1.0     0.0     1.0    1.0   \n",
      "1051  0.384615    0.196429     0.5      0.0      1.0     1.0     0.0    0.0   \n",
      "1053  0.784615    0.571429     1.0      0.0      1.0     1.0     0.0    0.0   \n",
      "1056  0.000000    0.107143     1.0      0.0      1.0     0.0     1.0    0.0   \n",
      "1058  0.861538    0.375000     1.0      1.0      0.0     0.0     1.0    0.0   \n",
      "\n",
      "      Fat_1  Turbidity_0  Turbidity_1  \n",
      "2       1.0          0.0          1.0  \n",
      "3       0.0          0.0          1.0  \n",
      "6       1.0          0.0          1.0  \n",
      "7       1.0          0.0          1.0  \n",
      "8       1.0          0.0          1.0  \n",
      "...     ...          ...          ...  \n",
      "1048    0.0          0.0          1.0  \n",
      "1051    1.0          0.0          1.0  \n",
      "1053    1.0          0.0          1.0  \n",
      "1056    1.0          0.0          1.0  \n",
      "1058    1.0          0.0          1.0  \n",
      "\n",
      "[429 rows x 11 columns]\n"
     ]
    }
   ],
   "source": [
    "# max-min 정규화\n",
    "from sklearn.preprocessing import MinMaxScaler\n",
    "\n",
    "data1 = pd.DataFrame(MinMaxScaler().fit_transform(data1), index=data1.index, columns=data1.columns)\n",
    "\n",
    "print(data1)"
   ]
  },
  {
   "cell_type": "code",
   "execution_count": 61,
   "metadata": {},
   "outputs": [
    {
     "name": "stdout",
     "output_type": "stream",
     "text": [
      "         2        3         6         7         8         11        12     \n",
      "13   0.749099  0.59068  0.926025  0.577637  0.985106  0.611267  0.642164  \\\n",
      "58   0.749099  0.59068  0.926025  0.577637  0.985106  0.611267  0.642164   \n",
      "106  0.749099  0.59068  0.926025  0.577637  0.985106  0.611267  0.642164   \n",
      "162  0.749099  0.59068  0.926025  0.577637  0.985106  0.611267  0.642164   \n",
      "190  0.749099  0.59068  0.926025  0.577637  0.985106  0.611267  0.642164   \n",
      "213  0.749099  0.59068  0.926025  0.577637  0.985106  0.611267  0.642164   \n",
      "290  0.749099  0.59068  0.926025  0.577637  0.985106  0.611267  0.642164   \n",
      "318  0.749099  0.59068  0.926025  0.577637  0.985106  0.611267  0.642164   \n",
      "341  0.749099  0.59068  0.926025  0.577637  0.985106  0.611267  0.642164   \n",
      "426  0.749099  0.59068  0.926025  0.577637  0.985106  0.611267  0.642164   \n",
      "469  0.749099  0.59068  0.926025  0.577637  0.985106  0.611267  0.642164   \n",
      "525  0.749099  0.59068  0.926025  0.577637  0.985106  0.611267  0.642164   \n",
      "604  0.749099  0.59068  0.926025  0.577637  0.985106  0.611267  0.642164   \n",
      "675  0.749099  0.59068  0.926025  0.577637  0.985106  0.611267  0.642164   \n",
      "737  0.749099  0.59068  0.926025  0.577637  0.985106  0.611267  0.642164   \n",
      "765  0.749099  0.59068  0.926025  0.577637  0.985106  0.611267  0.642164   \n",
      "788  0.749099  0.59068  0.926025  0.577637  0.985106  0.611267  0.642164   \n",
      "\n",
      "         16        17       18    ...      1035      1037      1039      1042   \n",
      "13   0.742202  0.721939  0.91847  ...  0.721289  0.577475  0.451022  0.721289  \\\n",
      "58   0.742202  0.721939  0.91847  ...  0.721289  0.577475  0.451022  0.721289   \n",
      "106  0.742202  0.721939  0.91847  ...  0.721289  0.577475  0.451022  0.721289   \n",
      "162  0.742202  0.721939  0.91847  ...  0.721289  0.577475  0.451022  0.721289   \n",
      "190  0.742202  0.721939  0.91847  ...  0.721289  0.577475  0.451022  0.721289   \n",
      "213  0.742202  0.721939  0.91847  ...  0.721289  0.577475  0.451022  0.721289   \n",
      "290  0.742202  0.721939  0.91847  ...  0.721289  0.577475  0.451022  0.721289   \n",
      "318  0.742202  0.721939  0.91847  ...  0.721289  0.577475  0.451022  0.721289   \n",
      "341  0.742202  0.721939  0.91847  ...  0.721289  0.577475  0.451022  0.721289   \n",
      "426  0.742202  0.721939  0.91847  ...  0.721289  0.577475  0.451022  0.721289   \n",
      "469  0.742202  0.721939  0.91847  ...  0.721289  0.577475  0.451022  0.721289   \n",
      "525  0.742202  0.721939  0.91847  ...  0.721289  0.577475  0.451022  0.721289   \n",
      "604  0.742202  0.721939  0.91847  ...  0.721289  0.577475  0.451022  0.721289   \n",
      "675  0.742202  0.721939  0.91847  ...  0.721289  0.577475  0.451022  0.721289   \n",
      "737  0.742202  0.721939  0.91847  ...  0.721289  0.577475  0.451022  0.721289   \n",
      "765  0.742202  0.721939  0.91847  ...  0.721289  0.577475  0.451022  0.721289   \n",
      "788  0.742202  0.721939  0.91847  ...  0.721289  0.577475  0.451022  0.721289   \n",
      "\n",
      "         1044     1048      1051      1053      1056      1058  \n",
      "13   0.577475  0.59068  0.926025  0.985106  0.721939  0.642164  \n",
      "58   0.577475  0.59068  0.926025  0.985106  0.721939  0.642164  \n",
      "106  0.577475  0.59068  0.926025  0.985106  0.721939  0.642164  \n",
      "162  0.577475  0.59068  0.926025  0.985106  0.721939  0.642164  \n",
      "190  0.577475  0.59068  0.926025  0.985106  0.721939  0.642164  \n",
      "213  0.577475  0.59068  0.926025  0.985106  0.721939  0.642164  \n",
      "290  0.577475  0.59068  0.926025  0.985106  0.721939  0.642164  \n",
      "318  0.577475  0.59068  0.926025  0.985106  0.721939  0.642164  \n",
      "341  0.577475  0.59068  0.926025  0.985106  0.721939  0.642164  \n",
      "426  0.577475  0.59068  0.926025  0.985106  0.721939  0.642164  \n",
      "469  0.577475  0.59068  0.926025  0.985106  0.721939  0.642164  \n",
      "525  0.577475  0.59068  0.926025  0.985106  0.721939  0.642164  \n",
      "604  0.577475  0.59068  0.926025  0.985106  0.721939  0.642164  \n",
      "675  0.577475  0.59068  0.926025  0.985106  0.721939  0.642164  \n",
      "737  0.577475  0.59068  0.926025  0.985106  0.721939  0.642164  \n",
      "765  0.577475  0.59068  0.926025  0.985106  0.721939  0.642164  \n",
      "788  0.577475  0.59068  0.926025  0.985106  0.721939  0.642164  \n",
      "\n",
      "[17 rows x 412 columns]\n"
     ]
    }
   ],
   "source": [
    "# data 유사도 확인\n",
    "from sklearn.metrics.pairwise import cosine_similarity\n",
    "\n",
    "temp = pd.DataFrame(cosine_similarity(data1), index=data1.index, columns=data1.index).drop(part_data_outlier_list[2][1][\"Temprature\"], axis=1)\n",
    "temp = temp.drop(temp.columns, axis=0)\n",
    "\n",
    "print(temp)"
   ]
  },
  {
   "cell_type": "code",
   "execution_count": 62,
   "metadata": {},
   "outputs": [
    {
     "name": "stdout",
     "output_type": "stream",
     "text": [
      "     0   1    2    3    4    5    6    7    8    9   ...   14   15   16   17   \n",
      "13    8  53  101  157  185  208  285  313  336  421  ...  627  670  732  760  \\\n",
      "58    8  53  101  157  185  208  285  313  336  421  ...  627  670  732  760   \n",
      "106   8  53  101  157  185  208  285  313  336  421  ...  627  670  732  760   \n",
      "162   8  53  101  157  185  208  285  313  336  421  ...  627  670  732  760   \n",
      "190   8  53  101  157  185  208  285  313  336  421  ...  627  670  732  760   \n",
      "213   8  53  101  157  185  208  285  313  336  421  ...  627  670  732  760   \n",
      "290   8  53  101  157  185  208  285  313  336  421  ...  627  670  732  760   \n",
      "318   8  53  101  157  185  208  285  313  336  421  ...  627  670  732  760   \n",
      "341   8  53  101  157  185  208  285  313  336  421  ...  627  670  732  760   \n",
      "426   8  53  101  157  185  208  285  313  336  421  ...  627  670  732  760   \n",
      "469   8  53  101  157  185  208  285  313  336  421  ...  627  670  732  760   \n",
      "525   8  53  101  157  185  208  285  313  336  421  ...  627  670  732  760   \n",
      "604   8  53  101  157  185  208  285  313  336  421  ...  627  670  732  760   \n",
      "675   8  53  101  157  185  208  285  313  336  421  ...  627  670  732  760   \n",
      "737   8  53  101  157  185  208  285  313  336  421  ...  627  670  732  760   \n",
      "765   8  53  101  157  185  208  285  313  336  421  ...  627  670  732  760   \n",
      "788   8  53  101  157  185  208  285  313  336  421  ...  627  670  732  760   \n",
      "\n",
      "      18   19   20   21   22    23  \n",
      "13   783  873  912  937  968  1053  \n",
      "58   783  873  912  937  968  1053  \n",
      "106  783  873  912  937  968  1053  \n",
      "162  783  873  912  937  968  1053  \n",
      "190  783  873  912  937  968  1053  \n",
      "213  783  873  912  937  968  1053  \n",
      "290  783  873  912  937  968  1053  \n",
      "318  783  873  912  937  968  1053  \n",
      "341  783  873  912  937  968  1053  \n",
      "426  783  873  912  937  968  1053  \n",
      "469  783  873  912  937  968  1053  \n",
      "525  783  873  912  937  968  1053  \n",
      "604  783  873  912  937  968  1053  \n",
      "675  783  873  912  937  968  1053  \n",
      "737  783  873  912  937  968  1053  \n",
      "765  783  873  912  937  968  1053  \n",
      "788  783  873  912  937  968  1053  \n",
      "\n",
      "[17 rows x 24 columns]\n"
     ]
    }
   ],
   "source": [
    "# 이상치 data와 가장 유사한 data의 index 확인\n",
    "def a(part_data):\n",
    "    return part_data[part_data == part_data.max()].index\n",
    "\n",
    "print(temp.T.apply(a).T)"
   ]
  },
  {
   "cell_type": "code",
   "execution_count": 63,
   "metadata": {},
   "outputs": [
    {
     "name": "stdout",
     "output_type": "stream",
     "text": [
      "66\n"
     ]
    }
   ],
   "source": [
    "print(data.loc[8, \"Temprature\"])"
   ]
  },
  {
   "cell_type": "code",
   "execution_count": 64,
   "metadata": {},
   "outputs": [
    {
     "name": "stdout",
     "output_type": "stream",
     "text": [
      "    PH  Temprature  Taste  Odor  Fat  Turbidity  Colour  Grade\n",
      "0  6.6          35      1     0    1          0     254      2\n",
      "1  6.6          36      0     1    0          1     253      2\n",
      "2  8.5          70      1     1    1          1     246      0\n",
      "3  9.5          34      1     1    0          1     255      0\n",
      "4  6.6          37      0     0    0          0     255      1\n"
     ]
    }
   ],
   "source": [
    "print(data.head())"
   ]
  },
  {
   "cell_type": "code",
   "execution_count": 65,
   "metadata": {},
   "outputs": [],
   "source": [
    "temp = pd.DataFrame(data.loc[part_data_outlier_list[2][1][\"Temprature\"], \"Temprature\"].map(lambda x: data.loc[8, \"Temprature\"]))\n",
    "\n",
    "temp = pd.concat([pd.DataFrame(data.loc[:, \"Temprature\"].drop(temp.index, axis=0)), temp], axis=0).sort_index(axis=0)\n",
    "\n",
    "data2 = pd.concat([data.drop(data.columns[1:], axis=1), temp, data.drop(data.columns[:2], axis=1)], axis=1)"
   ]
  },
  {
   "cell_type": "code",
   "execution_count": 66,
   "metadata": {},
   "outputs": [
    {
     "name": "stdout",
     "output_type": "stream",
     "text": [
      "     PH  Temprature  Taste  Odor  Fat  Turbidity  Colour  Grade\n",
      "0   6.6          35      1     0    1          0     254      2\n",
      "1   6.6          36      0     1    0          1     253      2\n",
      "2   8.5          70      1     1    1          1     246      0\n",
      "3   9.5          34      1     1    0          1     255      0\n",
      "4   6.6          37      0     0    0          0     255      1\n",
      "5   6.6          37      1     1    1          1     255      2\n",
      "6   5.5          45      1     0    1          1     250      0\n",
      "7   4.5          60      0     1    1          1     250      0\n",
      "8   8.1          66      1     0    1          1     255      0\n",
      "9   6.7          45      1     1    0          0     247      1\n",
      "10  6.7          45      1     1    1          0     245      1\n",
      "11  5.6          50      0     1    1          1     255      0\n",
      "12  8.6          55      0     1    1          1     255      0\n",
      "13  7.4          66      1     0    1          1     255      0\n",
      "14  6.8          45      0     1    1          1     255      2\n",
      "15  6.5          38      1     0    0          0     255      1\n",
      "16  4.7          38      1     0    1          0     255      0\n",
      "17  3.0          40      1     1    1          1     255      0\n",
      "18  9.0          43      1     0    1          1     250      0\n",
      "19  6.8          40      1     0    1          0     245      1\n",
      "20  6.6          45      0     1    1          1     250      2\n",
      "21  6.5          36      0     0    1          0     255      1\n",
      "22  4.5          38      0     1    1          1     255      0\n",
      "23  6.6          45      1     1    1          1     245      2\n",
      "24  6.8          35      1     0    1          0     246      1\n",
      "25  6.5          36      0     1    1          0     253      2\n",
      "26  8.5          70      0     0    0          0     246      0\n",
      "27  6.6          34      0     0    0          1     240      1\n",
      "28  6.5          37      0     0    0          0     245      1\n",
      "29  6.6          37      1     0    1          0     255      2\n",
      "30  6.4          45      0     1    0          0     240      1\n",
      "31  6.5          40      0     1    0          1     250      0\n",
      "32  6.8          42      1     1    1          1     255      2\n",
      "33  6.7          41      1     0    0          0     247      1\n",
      "34  6.7          50      1     1    1          0     245      0\n",
      "35  6.8          45      0     1    1          1     255      2\n",
      "36  8.6          55      0     1    0          0     255      0\n",
      "37  7.4          65      0     0    0          0     255      0\n",
      "38  6.8          41      0     0    0          0     255      1\n",
      "39  6.5          38      1     1    1          1     255      2\n",
      "40  6.8          38      0     0    0          0     255      1\n",
      "41  3.0          40      1     0    0          0     255      0\n",
      "42  9.0          43      1     1    1          1     248      0\n",
      "43  6.8          40      1     1    1          1     255      2\n",
      "44  6.6          45      0     0    0          1     250      1\n",
      "45  6.5          36      0     0    0          0     247      1\n",
      "46  6.6          38      0     0    0          0     255      1\n",
      "47  6.8          45      1     1    1          0     245      2\n",
      "48  9.5          34      1     1    0          1     255      0\n",
      "49  6.5          37      0     0    0          0     255      1\n",
      "50  6.6          37      1     1    1          1     255      2\n",
      "51  5.5          45      1     0    1          1     250      0\n",
      "52  4.5          60      0     1    1          1     250      0\n",
      "53  8.1          66      1     0    1          1     255      0\n",
      "54  6.7          45      1     1    0          0     247      1\n",
      "55  6.7          45      1     1    1          0     245      1\n",
      "56  5.6          50      0     1    1          1     255      0\n",
      "57  8.6          55      0     1    1          1     255      0\n",
      "58  7.4          66      1     0    1          1     255      0\n"
     ]
    }
   ],
   "source": [
    "# 수정된 data 확인\n",
    "print(data2.head(59))"
   ]
  },
  {
   "cell_type": "code",
   "execution_count": 67,
   "metadata": {},
   "outputs": [
    {
     "name": "stdout",
     "output_type": "stream",
     "text": [
      "     PH  Temprature  Taste  Odor  Fat  Turbidity  Colour  Grade\n",
      "0   6.6          35      1     0    1          0     254      2\n",
      "1   6.6          36      0     1    0          1     253      2\n",
      "2   8.5          70      1     1    1          1     246      0\n",
      "3   9.5          34      1     1    0          1     255      0\n",
      "4   6.6          37      0     0    0          0     255      1\n",
      "5   6.6          37      1     1    1          1     255      2\n",
      "6   5.5          45      1     0    1          1     250      0\n",
      "7   4.5          60      0     1    1          1     250      0\n",
      "8   8.1          66      1     0    1          1     255      0\n",
      "9   6.7          45      1     1    0          0     247      1\n",
      "10  6.7          45      1     1    1          0     245      1\n",
      "11  5.6          50      0     1    1          1     255      0\n",
      "12  8.6          55      0     1    1          1     255      0\n",
      "13  7.4          90      1     0    1          1     255      0\n",
      "14  6.8          45      0     1    1          1     255      2\n",
      "15  6.5          38      1     0    0          0     255      1\n",
      "16  4.7          38      1     0    1          0     255      0\n",
      "17  3.0          40      1     1    1          1     255      0\n",
      "18  9.0          43      1     0    1          1     250      0\n",
      "19  6.8          40      1     0    1          0     245      1\n",
      "20  6.6          45      0     1    1          1     250      2\n",
      "21  6.5          36      0     0    1          0     255      1\n",
      "22  4.5          38      0     1    1          1     255      0\n",
      "23  6.6          45      1     1    1          1     245      2\n",
      "24  6.8          35      1     0    1          0     246      1\n",
      "25  6.5          36      0     1    1          0     253      2\n",
      "26  8.5          70      0     0    0          0     246      0\n",
      "27  6.6          34      0     0    0          1     240      1\n",
      "28  6.5          37      0     0    0          0     245      1\n",
      "29  6.6          37      1     0    1          0     255      2\n",
      "30  6.4          45      0     1    0          0     240      1\n",
      "31  6.5          40      0     1    0          1     250      0\n",
      "32  6.8          42      1     1    1          1     255      2\n",
      "33  6.7          41      1     0    0          0     247      1\n",
      "34  6.7          50      1     1    1          0     245      0\n",
      "35  6.8          45      0     1    1          1     255      2\n",
      "36  8.6          55      0     1    0          0     255      0\n",
      "37  7.4          65      0     0    0          0     255      0\n",
      "38  6.8          41      0     0    0          0     255      1\n",
      "39  6.5          38      1     1    1          1     255      2\n",
      "40  6.8          38      0     0    0          0     255      1\n",
      "41  3.0          40      1     0    0          0     255      0\n",
      "42  9.0          43      1     1    1          1     248      0\n",
      "43  6.8          40      1     1    1          1     255      2\n",
      "44  6.6          45      0     0    0          1     250      1\n",
      "45  6.5          36      0     0    0          0     247      1\n",
      "46  6.6          38      0     0    0          0     255      1\n",
      "47  6.8          45      1     1    1          0     245      2\n",
      "48  9.5          34      1     1    0          1     255      0\n",
      "49  6.5          37      0     0    0          0     255      1\n",
      "50  6.6          37      1     1    1          1     255      2\n",
      "51  5.5          45      1     0    1          1     250      0\n",
      "52  4.5          60      0     1    1          1     250      0\n",
      "53  8.1          66      1     0    1          1     255      0\n",
      "54  6.7          45      1     1    0          0     247      1\n",
      "55  6.7          45      1     1    1          0     245      1\n",
      "56  5.6          50      0     1    1          1     255      0\n",
      "57  8.6          55      0     1    1          1     255      0\n",
      "58  7.4          90      1     0    1          1     255      0\n"
     ]
    }
   ],
   "source": [
    "print(data.head(59))"
   ]
  },
  {
   "cell_type": "code",
   "execution_count": 68,
   "metadata": {},
   "outputs": [
    {
     "data": {
      "image/png": "[encoded data removed]",
      "text/plain": [
       "<Figure size 640x480 with 1 Axes>"
      ]
     },
     "metadata": {},
     "output_type": "display_data"
    }
   ],
   "source": [
    "data2_low = data2[data2[\"Grade\"] == 0]\n",
    "\n",
    "import matplotlib.pyplot as plt\n",
    "import seaborn\n",
    "\n",
    "seaborn.boxplot(y = data2_low[\"Temprature\"])\n",
    "plt.show()"
   ]
  },
  {
   "cell_type": "code",
   "execution_count": 69,
   "metadata": {},
   "outputs": [
    {
     "data": {
      "image/png": "[encoded data removed]",
      "text/plain": [
       "<Figure size 640x480 with 1 Axes>"
      ]
     },
     "metadata": {},
     "output_type": "display_data"
    }
   ],
   "source": [
    "seaborn.boxplot(y = data_classification_list[2][\"Temprature\"])\n",
    "plt.show()"
   ]
  },
  {
   "cell_type": "code",
   "execution_count": 70,
   "metadata": {},
   "outputs": [],
   "source": [
    "data2.to_csv(\"data/modified_data.csv\", index=False, encoding=\"utf-8\")"
   ]
  }
 ],
 "metadata": {
  "kernelspec": {
   "display_name": "ml_venv",
   "language": "python",
   "name": "python3"
  },
  "language_info": {
   "codemirror_mode": {
    "name": "ipython",
    "version": 3
   },
   "file_extension": ".py",
   "mimetype": "text/x-python",
   "name": "python",
   "nbconvert_exporter": "python",
   "pygments_lexer": "ipython3",
   "version": "3.11.3"
  },
  "orig_nbformat": 4
 },
 "nbformat": 4,
 "nbformat_minor": 2
}
